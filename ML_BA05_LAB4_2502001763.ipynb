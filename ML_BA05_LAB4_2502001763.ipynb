{
  "nbformat": 4,
  "nbformat_minor": 0,
  "metadata": {
    "colab": {
      "provenance": [],
      "authorship_tag": "ABX9TyNPDkQgAYhuUHy+GdNTq791",
      "include_colab_link": true
    },
    "kernelspec": {
      "name": "python3",
      "display_name": "Python 3"
    },
    "language_info": {
      "name": "python"
    }
  },
  "cells": [
    {
      "cell_type": "markdown",
      "metadata": {
        "id": "view-in-github",
        "colab_type": "text"
      },
      "source": [
        "<a href=\"https://colab.research.google.com/github/Darrenn231/MachineLearning/blob/main/ML_BA05_LAB4_2502001763.ipynb\" target=\"_parent\"><img src=\"https://colab.research.google.com/assets/colab-badge.svg\" alt=\"Open In Colab\"/></a>"
      ]
    },
    {
      "cell_type": "code",
      "execution_count": null,
      "metadata": {
        "id": "e3CCjLUJBttW"
      },
      "outputs": [],
      "source": [
        "#library\n",
        "\n",
        "import pandas as pd\n",
        "import numpy as np\n",
        "import matplotlib.pyplot as plt\n",
        "import seaborn as sns"
      ]
    },
    {
      "cell_type": "code",
      "source": [
        "#read\n",
        "df_raw = pd.read_excel('dataset_lab4.xlsx')"
      ],
      "metadata": {
        "id": "CFpEJOaCB-9I"
      },
      "execution_count": null,
      "outputs": []
    },
    {
      "cell_type": "code",
      "source": [
        "df_raw.info"
      ],
      "metadata": {
        "colab": {
          "base_uri": "https://localhost:8080/"
        },
        "id": "cnf9v95uCk0O",
        "outputId": "3cad85b9-d13c-4b34-9a49-f31030431f86"
      },
      "execution_count": null,
      "outputs": [
        {
          "output_type": "execute_result",
          "data": {
            "text/plain": [
              "<bound method DataFrame.info of        Variable A  Variable B  Variable C  Variable D  Variable E  Variable F  \\\n",
              "0      121.156250   48.372971    0.375485   -0.013165    3.168896   18.399367   \n",
              "1       76.968750   36.175557    0.712898    3.388719    2.399666   17.570997   \n",
              "2      130.585938   53.229534    0.133408   -0.297242    2.743311   22.362553   \n",
              "3      156.398438   48.865942   -0.215989   -0.171294   17.471572         NaN   \n",
              "4       84.804688   36.117659    0.825013    3.274125    2.790134   20.618009   \n",
              "...           ...         ...         ...         ...         ...         ...   \n",
              "12523  124.312500   53.179053   -0.012418   -0.556021    7.186455   29.308266   \n",
              "12524  115.617188   46.784600    0.218177    0.226757    6.140468         NaN   \n",
              "12525  116.031250   43.213846    0.663456    0.433088    0.785117   11.628149   \n",
              "12526  135.664062   49.933749   -0.089940   -0.226726    3.859532   21.501505   \n",
              "12527  120.726562   50.472256    0.346178    0.184797    0.769231   11.792603   \n",
              "\n",
              "       Variable G  Variable H  Target  \n",
              "0        7.449874   65.159298       0  \n",
              "1        9.414652  102.722975       0  \n",
              "2        8.508364   74.031324       0  \n",
              "3        2.958066    7.197842       0  \n",
              "4        8.405008   76.291128       0  \n",
              "...           ...         ...     ...  \n",
              "12523    4.531382   21.725143       0  \n",
              "12524    5.732201   34.357282       0  \n",
              "12525   17.055215  312.204325       0  \n",
              "12526    7.398395   62.334018       0  \n",
              "12527   17.662222  329.548016       0  \n",
              "\n",
              "[12528 rows x 9 columns]>"
            ]
          },
          "metadata": {},
          "execution_count": 6
        }
      ]
    },
    {
      "cell_type": "code",
      "source": [
        "df_raw.isnull().sum()"
      ],
      "metadata": {
        "colab": {
          "base_uri": "https://localhost:8080/"
        },
        "id": "hfe6dmftCqFa",
        "outputId": "6bbe7e11-324c-44a7-ee2d-0d85faab2e4c"
      },
      "execution_count": null,
      "outputs": [
        {
          "output_type": "execute_result",
          "data": {
            "text/plain": [
              "Variable A       0\n",
              "Variable B       0\n",
              "Variable C    1735\n",
              "Variable D       0\n",
              "Variable E       0\n",
              "Variable F    1178\n",
              "Variable G       0\n",
              "Variable H     625\n",
              "Target           0\n",
              "dtype: int64"
            ]
          },
          "metadata": {},
          "execution_count": 8
        }
      ]
    },
    {
      "cell_type": "code",
      "source": [
        "#Imputation\n",
        "\n",
        "from sklearn.impute import  SimpleImputer\n",
        "\n",
        "df_clean = df_raw.copy()\n",
        "mean_imputer = SimpleImputer(strategy='constant')\n",
        "df_clean['Variable C'] = mean_imputer.fit_transform(df_clean['Variable C'].values.reshape(-1,1))\n",
        "df_clean['Variable F'] = mean_imputer.fit_transform(df_clean['Variable F'].values.reshape(-1,1))\n",
        "df_clean['Variable H'] = mean_imputer.fit_transform(df_clean['Variable H'].values.reshape(-1,1))"
      ],
      "metadata": {
        "id": "ycESGpPgCz_1"
      },
      "execution_count": null,
      "outputs": []
    },
    {
      "cell_type": "code",
      "source": [
        "df_clean.isnull().sum()"
      ],
      "metadata": {
        "colab": {
          "base_uri": "https://localhost:8080/"
        },
        "id": "YiQVRRTPOJ7M",
        "outputId": "66d8d40f-5ca5-4683-c5ed-ace636cd3a6e"
      },
      "execution_count": null,
      "outputs": [
        {
          "output_type": "execute_result",
          "data": {
            "text/plain": [
              "Variable A    0\n",
              "Variable B    0\n",
              "Variable C    0\n",
              "Variable D    0\n",
              "Variable E    0\n",
              "Variable F    0\n",
              "Variable G    0\n",
              "Variable H    0\n",
              "Target        0\n",
              "dtype: int64"
            ]
          },
          "metadata": {},
          "execution_count": 166
        }
      ]
    },
    {
      "cell_type": "code",
      "source": [
        "from sklearn.model_selection import train_test_split\n",
        "df_feat = df_clean.drop('Target', axis = 1)\n",
        "x_train, x_test, y_train, y_test = train_test_split(df_feat, df_clean['Target'],\n",
        "                                                    test_size = 0.2,\n",
        "                                                    random_state = 99)\n",
        "\n",
        "print(len(x_train))\n",
        "print((len(x_test)))"
      ],
      "metadata": {
        "colab": {
          "base_uri": "https://localhost:8080/"
        },
        "id": "zbLC1pRxC73-",
        "outputId": "255ff706-b23f-4648-e3af-70251ab31633"
      },
      "execution_count": null,
      "outputs": [
        {
          "output_type": "stream",
          "name": "stdout",
          "text": [
            "10022\n",
            "2506\n"
          ]
        }
      ]
    },
    {
      "cell_type": "code",
      "source": [
        "\n",
        "from sklearn.linear_model import LogisticRegression\n",
        "from sklearn.tree import DecisionTreeClassifier\n",
        "from sklearn.svm import SVC\n",
        "\n",
        "from sklearn.metrics import classification_report, confusion_matrix"
      ],
      "metadata": {
        "id": "kshQ8WSxEtO4"
      },
      "execution_count": null,
      "outputs": []
    },
    {
      "cell_type": "code",
      "source": [
        "LR_model = LogisticRegression()\n",
        "LR_model.fit(x_train, y_train)\n",
        "prediction = LR_model.predict(x_test)\n",
        "print(classification_report(prediction, y_test))"
      ],
      "metadata": {
        "id": "3aYRDByhFC5O"
      },
      "execution_count": null,
      "outputs": []
    },
    {
      "cell_type": "code",
      "source": [
        "\n",
        "DT_model = DecisionTreeClassifier()\n",
        "DT_model.fit(x_train, y_train)\n",
        "prediction = DT_model.predict(x_test)\n",
        "\n",
        "print(classification_report(prediction, y_test))"
      ],
      "metadata": {
        "id": "LMnb9FqVGiyl"
      },
      "execution_count": null,
      "outputs": []
    },
    {
      "cell_type": "code",
      "source": [
        "SVM_model = SVC()\n",
        "SVM_model.fit(x_train, y_train)\n",
        "prediction = SVM_model.predict(x_test)\n",
        "\n",
        "print(classification_report(prediction, y_test))"
      ],
      "metadata": {
        "id": "oU3C9oj6GnOV"
      },
      "execution_count": null,
      "outputs": []
    },
    {
      "cell_type": "code",
      "source": [
        "from sklearn.ensemble import VotingClassifier\n",
        "\n",
        "estimators = [('LR', LogisticRegression()),\n",
        "              ('DT', DecisionTreeClassifier(random_state = 100)),\n",
        "              ('SVM', SVC(C=1000, gamma = 0.001, probability = True))]\n",
        "\n",
        "voting_model = VotingClassifier(estimators = estimators, voting = 'hard')\n",
        "voting_model.fit(x_train, y_train)\n",
        "prediction = voting_model.predict(x_test)\n",
        "print(classification_report(prediction, y_test))"
      ],
      "metadata": {
        "id": "2h9QlCsvGpjc"
      },
      "execution_count": null,
      "outputs": []
    },
    {
      "cell_type": "code",
      "source": [
        "from sklearn.ensemble import BaggingClassifier\n",
        "\n",
        "bagging_model = BaggingClassifier(n_estimators = 100, estimator = DecisionTreeClassifier())\n",
        "bagging_model.fit(x_train, y_train)\n",
        "prediction = bagging_model.predict(x_test)\n",
        "print(classification_report(prediction, y_test))"
      ],
      "metadata": {
        "id": "pcS2dDE1IFIT"
      },
      "execution_count": null,
      "outputs": []
    },
    {
      "cell_type": "code",
      "source": [
        "from sklearn.tree import DecisionTreeClassifier\n",
        "\n",
        "DTC = DecisionTreeClassifier()\n",
        "DTC.fit(x_train, y_train)\n",
        "y_pred = DTC.predict(x_test)\n",
        "\n",
        "print(classification_report(y_pred, y_test))"
      ],
      "metadata": {
        "id": "PbnptoJcL1z-",
        "colab": {
          "base_uri": "https://localhost:8080/",
          "height": 226
        },
        "outputId": "3b1bd5a5-3d72-446c-ed1c-c4e61219d0d9"
      },
      "execution_count": null,
      "outputs": [
        {
          "output_type": "error",
          "ename": "NameError",
          "evalue": "ignored",
          "traceback": [
            "\u001b[0;31m---------------------------------------------------------------------------\u001b[0m",
            "\u001b[0;31mNameError\u001b[0m                                 Traceback (most recent call last)",
            "\u001b[0;32m<ipython-input-1-c962fbe4bef3>\u001b[0m in \u001b[0;36m<cell line: 4>\u001b[0;34m()\u001b[0m\n\u001b[1;32m      2\u001b[0m \u001b[0;34m\u001b[0m\u001b[0m\n\u001b[1;32m      3\u001b[0m \u001b[0mDTC\u001b[0m \u001b[0;34m=\u001b[0m \u001b[0mDecisionTreeClassifier\u001b[0m\u001b[0;34m(\u001b[0m\u001b[0;34m)\u001b[0m\u001b[0;34m\u001b[0m\u001b[0;34m\u001b[0m\u001b[0m\n\u001b[0;32m----> 4\u001b[0;31m \u001b[0mDTC\u001b[0m\u001b[0;34m.\u001b[0m\u001b[0mfit\u001b[0m\u001b[0;34m(\u001b[0m\u001b[0mx_train\u001b[0m\u001b[0;34m,\u001b[0m \u001b[0my_train\u001b[0m\u001b[0;34m)\u001b[0m\u001b[0;34m\u001b[0m\u001b[0;34m\u001b[0m\u001b[0m\n\u001b[0m\u001b[1;32m      5\u001b[0m \u001b[0my_pred\u001b[0m \u001b[0;34m=\u001b[0m \u001b[0mDTC\u001b[0m\u001b[0;34m.\u001b[0m\u001b[0mpredict\u001b[0m\u001b[0;34m(\u001b[0m\u001b[0mx_test\u001b[0m\u001b[0;34m)\u001b[0m\u001b[0;34m\u001b[0m\u001b[0;34m\u001b[0m\u001b[0m\n",
            "\u001b[0;31mNameError\u001b[0m: name 'x_train' is not defined"
          ]
        }
      ]
    }
  ]
}